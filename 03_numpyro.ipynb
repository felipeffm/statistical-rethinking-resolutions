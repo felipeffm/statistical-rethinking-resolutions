{
 "cells": [
  {
   "cell_type": "markdown",
   "metadata": {},
   "source": [
    "## Summary\n"
   ]
  },
  {
   "cell_type": "markdown",
   "metadata": {},
   "source": [
    "This notebook is an introduction to the NumPyro and JAX Numpy methods used to resolve the exercises in chapter 3 of the book Statistical Rethinking. It is expected that you have read the previous numpyro tutorial (02_numpyro.ipynb). <br> many other useful functions and methods can be learned at the [official numpyro documentation](https://num.pyro.ai/en/latest/index.html#introductory-tutorials)."
   ]
  },
  {
   "attachments": {},
   "cell_type": "markdown",
   "metadata": {},
   "source": [
    "## Topics\n",
    "\n",
    "\n",
    "- The tutorial covers\n",
    "    - Sample from user defined probability distribution\n",
    "    - High probability density intervals "
   ]
  },
  {
   "cell_type": "code",
   "execution_count": 1,
   "metadata": {},
   "outputs": [
    {
     "name": "stderr",
     "output_type": "stream",
     "text": [
      "2023-02-14 16:56:13.857726: E external/org_tensorflow/tensorflow/compiler/xla/stream_executor/cuda/cuda_driver.cc:267] failed call to cuInit: CUDA_ERROR_COMPAT_NOT_SUPPORTED_ON_DEVICE: forward compatibility was attempted on non supported HW\n",
      "2023-02-14 16:56:13.857815: E external/org_tensorflow/tensorflow/compiler/xla/stream_executor/cuda/cuda_diagnostics.cc:313] kernel version 525.60.11 does not match DSO version 525.78.1 -- cannot find working devices in this configuration\n",
      "No GPU/TPU found, falling back to CPU. (Set TF_CPP_MIN_LOG_LEVEL=0 and rerun for more info.)\n"
     ]
    }
   ],
   "source": [
    "import numpyro.distributions as dist\n",
    "import jax.numpy as jnp\n",
    "from jax import random\n",
    "import numpyro\n",
    "\n",
    "vector = jnp.linspace(start=0, stop=1, num=1000) \n",
    "probs =  jnp.linspace(start=0, stop=1, num=1000)*2"
   ]
  },
  {
   "cell_type": "markdown",
   "metadata": {},
   "source": [
    "Is possible to sample the vector values using the vector probabilities respective to each element with the ´dist.Categorical´ distribution. If we want to sample 100 elementos for that vector, for example:"
   ]
  },
  {
   "cell_type": "code",
   "execution_count": 25,
   "metadata": {},
   "outputs": [
    {
     "data": {
      "text/plain": [
       "Array([0.15415415, 0.9239239 , 0.9019019 , 0.7177177 , 0.4144144 ,\n",
       "       0.8958959 , 0.7167167 , 0.5905906 , 0.7107107 , 0.5805806 ,\n",
       "       0.3303303 , 0.3243243 , 0.9159159 , 0.8888889 , 0.5835836 ,\n",
       "       0.9139139 , 0.4954955 , 0.46246246, 0.15615615, 0.7497497 ,\n",
       "       0.5305305 , 0.9719719 , 0.7827828 , 0.8598598 , 0.7247247 ,\n",
       "       0.8098098 , 0.6406406 , 0.4904905 , 0.8628628 , 0.18818818,\n",
       "       0.9229229 , 0.15615615, 0.6876877 , 0.8528528 , 0.5925926 ,\n",
       "       0.7927928 , 0.7817818 , 0.25525525, 0.8998999 , 0.46146145,\n",
       "       0.8048048 , 0.5695696 , 0.7447447 , 0.9409409 , 0.97998   ,\n",
       "       0.9159159 , 0.6996997 , 0.34334335, 0.4114114 , 0.9149149 ,\n",
       "       0.7667667 , 0.8288288 , 0.977978  , 0.7617617 , 0.5295295 ,\n",
       "       0.5895896 , 0.7217217 , 0.990991  , 0.7517517 , 0.4944945 ,\n",
       "       0.8298298 , 0.980981  , 0.6936937 , 0.9439439 , 0.8418418 ,\n",
       "       0.973974  , 0.8238238 , 0.6646646 , 0.6066066 , 0.975976  ,\n",
       "       0.5565565 , 0.8428428 , 0.9359359 , 0.7807808 , 0.7797798 ,\n",
       "       0.47647646, 0.7327327 , 0.980981  , 0.2852853 , 0.7257257 ,\n",
       "       0.9269269 , 0.8058058 , 0.6826827 , 0.5625625 , 0.6596596 ,\n",
       "       0.6956957 , 0.6426426 , 0.8578578 , 0.3913914 , 0.8188188 ,\n",
       "       0.2912913 , 0.2132132 , 0.45945945, 0.6826827 , 0.8588588 ,\n",
       "       0.48248246, 0.47047046, 0.995996  , 0.9379379 , 0.6406406 ],      dtype=float32)"
      ]
     },
     "execution_count": 25,
     "metadata": {},
     "output_type": "execute_result"
    }
   ],
   "source": [
    "# Generate a distribution\n",
    "dist_cat = dist.Categorical(probs=probs)\n",
    "\n",
    "# Sample distribution\n",
    "n_samples=100\n",
    "\n",
    "# The output of sample function is an array of positional index from the array of probabilities\n",
    "id_samples = dist_cat.sample(random.PRNGKey(0), (n_samples,))\n",
    "\n",
    "# This positional ids can be used to select samples from a distribution.\n",
    "vector[id_samples]"
   ]
  },
  {
   "attachments": {},
   "cell_type": "markdown",
   "metadata": {},
   "source": [
    "It is also possible to sample the probabilities from their distribution with the same ids."
   ]
  },
  {
   "cell_type": "code",
   "execution_count": 26,
   "metadata": {},
   "outputs": [
    {
     "data": {
      "text/plain": [
       "Array([0.3083083 , 1.8478478 , 1.8038038 , 1.4354354 , 0.8288288 ,\n",
       "       1.7917918 , 1.4334334 , 1.1811812 , 1.4214214 , 1.1611612 ,\n",
       "       0.6606606 , 0.6486486 , 1.8318318 , 1.7777778 , 1.1671672 ,\n",
       "       1.8278278 , 0.990991  , 0.9249249 , 0.3123123 , 1.4994994 ,\n",
       "       1.061061  , 1.9439439 , 1.5655656 , 1.7197196 , 1.4494494 ,\n",
       "       1.6196196 , 1.2812812 , 0.980981  , 1.7257257 , 0.37637636,\n",
       "       1.8458458 , 0.3123123 , 1.3753754 , 1.7057056 , 1.1851852 ,\n",
       "       1.5855856 , 1.5635636 , 0.5105105 , 1.7997998 , 0.9229229 ,\n",
       "       1.6096096 , 1.1391392 , 1.4894894 , 1.8818818 , 1.95996   ,\n",
       "       1.8318318 , 1.3993994 , 0.6866867 , 0.8228228 , 1.8298298 ,\n",
       "       1.5335335 , 1.6576576 , 1.955956  , 1.5235234 , 1.059059  ,\n",
       "       1.1791792 , 1.4434434 , 1.981982  , 1.5035034 , 0.988989  ,\n",
       "       1.6596596 , 1.961962  , 1.3873874 , 1.8878878 , 1.6836836 ,\n",
       "       1.947948  , 1.6476476 , 1.3293293 , 1.2132132 , 1.951952  ,\n",
       "       1.113113  , 1.6856856 , 1.8718718 , 1.5615616 , 1.5595596 ,\n",
       "       0.9529529 , 1.4654654 , 1.961962  , 0.5705706 , 1.4514514 ,\n",
       "       1.8538538 , 1.6116116 , 1.3653654 , 1.125125  , 1.3193192 ,\n",
       "       1.3913914 , 1.2852852 , 1.7157156 , 0.7827828 , 1.6376376 ,\n",
       "       0.5825826 , 0.4264264 , 0.9189189 , 1.3653654 , 1.7177176 ,\n",
       "       0.9649649 , 0.9409409 , 1.991992  , 1.8758758 , 1.2812812 ],      dtype=float32)"
      ]
     },
     "execution_count": 26,
     "metadata": {},
     "output_type": "execute_result"
    }
   ],
   "source": [
    "probs[id_samples]\n"
   ]
  },
  {
   "cell_type": "markdown",
   "metadata": {},
   "source": [
    "Using quantiles to analyze distributions is very common, but other metrics are still very relevant as the hpdi. The definition from Richard McElreath about hdpi is below: \n",
    ">The HPDI is the narrowest interval containing the specified\n",
    "probability mass. If you think about it, there must be an infinite number of posterior intervals\n",
    "with the same mass. But if you want an interval that best represents the parameter values\n",
    "most consistent with the data, then you want the densest of these intervals. That’s what the\n",
    "HPDI is. \n",
    "\n",
    "<br>To calculate the hpdi from an array define the probability interval you want to cover and use the vector as input. Let's calculate the hpdi from the previously defined vector of probabilities:"
   ]
  },
  {
   "cell_type": "code",
   "execution_count": 27,
   "metadata": {},
   "outputs": [
    {
     "data": {
      "text/plain": [
       "array([0.0960961, 1.097097 ], dtype=float32)"
      ]
     },
     "execution_count": 27,
     "metadata": {},
     "output_type": "execute_result"
    }
   ],
   "source": [
    "numpyro.diagnostics.hpdi(probs, prob=0.5)"
   ]
  },
  {
   "cell_type": "markdown",
   "metadata": {},
   "source": [
    "So the narrowest interval with 50% of probability lies between 0.09 and 1.09\n"
   ]
  }
 ],
 "metadata": {
  "kernelspec": {
   "display_name": "stats",
   "language": "python",
   "name": "python3"
  },
  "language_info": {
   "codemirror_mode": {
    "name": "ipython",
    "version": 3
   },
   "file_extension": ".py",
   "mimetype": "text/x-python",
   "name": "python",
   "nbconvert_exporter": "python",
   "pygments_lexer": "ipython3",
   "version": "3.8.15 (default, Nov 24 2022, 15:19:38) \n[GCC 11.2.0]"
  },
  "orig_nbformat": 4,
  "vscode": {
   "interpreter": {
    "hash": "7657e58c28d534ab13c1be905c8e5d7199e10b7a7e8ab7fee79acfb2779998fe"
   }
  }
 },
 "nbformat": 4,
 "nbformat_minor": 2
}
